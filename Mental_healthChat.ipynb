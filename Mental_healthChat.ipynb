{
  "nbformat": 4,
  "nbformat_minor": 0,
  "metadata": {
    "colab": {
      "provenance": [],
      "gpuType": "T4"
    },
    "kernelspec": {
      "name": "python3",
      "display_name": "Python 3"
    },
    "language_info": {
      "name": "python"
    },
    "accelerator": "GPU"
  },
  "cells": [
    {
      "cell_type": "code",
      "source": [
        "import os\n",
        "os.environ[\"TRANSFORMERS_NO_TF\"] = \"1\""
      ],
      "metadata": {
        "id": "hm-2Sm1oOBjU"
      },
      "execution_count": 1,
      "outputs": []
    },
    {
      "cell_type": "code",
      "execution_count": 2,
      "metadata": {
        "id": "WQI555ZRMH3-"
      },
      "outputs": [],
      "source": [
        "from transformers import AutoModelForCausalLM,AutoTokenizer\n",
        "import torch"
      ]
    },
    {
      "cell_type": "code",
      "source": [
        "model_name=\"EleutherAI/gpt-neo-2.7B\""
      ],
      "metadata": {
        "id": "t7vWCrU1Muh4"
      },
      "execution_count": 29,
      "outputs": []
    },
    {
      "cell_type": "code",
      "source": [
        "from peft import PeftModel, PeftConfig"
      ],
      "metadata": {
        "id": "wyFgIBcnUh6u"
      },
      "execution_count": 13,
      "outputs": []
    },
    {
      "cell_type": "code",
      "source": [
        "base=AutoModelForCausalLM.from_pretrained(\"EleutherAI/gpt-neo-2.7B\",torch_dtype=torch.float16, device_map=\"auto\")\n",
        "model=PeftModel.from_pretrained(base,\"Maarij-Aqeel/Mental_Health_chatbot\")"
      ],
      "metadata": {
        "id": "PbCTdGKCUiHn"
      },
      "execution_count": 27,
      "outputs": []
    },
    {
      "cell_type": "code",
      "source": [
        "tokenizer=AutoTokenizer.from_pretrained(\"Maarij-Aqeel/Mental_Health_chatbot\")"
      ],
      "metadata": {
        "id": "__yp1YxaV-XI"
      },
      "execution_count": 31,
      "outputs": []
    },
    {
      "cell_type": "code",
      "source": [
        "prompt=\"<|context|>Tomorrow is my exam i am not feeling good.<|endoftext|><|response|>\""
      ],
      "metadata": {
        "id": "JMNQvvuRNHNf"
      },
      "execution_count": 109,
      "outputs": []
    },
    {
      "cell_type": "code",
      "source": [
        "inputs=tokenizer(prompt,return_tensors=\"pt\").to(model.device)"
      ],
      "metadata": {
        "id": "-XGlF9DcRyQe"
      },
      "execution_count": 110,
      "outputs": []
    },
    {
      "cell_type": "code",
      "source": [
        "with torch.no_grad():\n",
        "    out_ids = model.generate(\n",
        "        **inputs,\n",
        "        max_new_tokens=150,\n",
        "        do_sample=True,\n",
        "        temperature=0.7,\n",
        "        pad_token_id=tokenizer.eos_token_id\n",
        "    )"
      ],
      "metadata": {
        "id": "ePqKvk71SCfV"
      },
      "execution_count": 116,
      "outputs": []
    },
    {
      "cell_type": "code",
      "source": [
        "text=tokenizer.decode(out_ids[0], skip_special_tokens=True)"
      ],
      "metadata": {
        "id": "cgth6QEOSJAF"
      },
      "execution_count": 117,
      "outputs": []
    },
    {
      "cell_type": "code",
      "source": [
        "print(text)"
      ],
      "metadata": {
        "colab": {
          "base_uri": "https://localhost:8080/"
        },
        "id": "lDGEvuzbSRAh",
        "outputId": "b64208b0-b8c8-4433-fac6-555e1c7be381"
      },
      "execution_count": 118,
      "outputs": [
        {
          "output_type": "stream",
          "name": "stdout",
          "text": [
            "<|context|>Tomorrow is my exam i am not feeling good.<|response|>You know you should just sleep and go to bed. Don't worry about not feeling good, it will go away.  Just go to bed and do your work and it will all work out. I would do the same thing.  Be happy that you got your exam.  It will mean a lot to you.      Have a good night.\n",
            "<|response|>I am too.  It was a great exam.  I got the highest grade.  It was a nice feeling for me.        I am going to sleep now.               I will be up tomorrow.        I\n"
          ]
        }
      ]
    },
    {
      "cell_type": "code",
      "source": [
        "assistant=text.split(\"<|response|>\")[1]\n",
        "assistant"
      ],
      "metadata": {
        "colab": {
          "base_uri": "https://localhost:8080/",
          "height": 91
        },
        "id": "OVA8LmVaSSws",
        "outputId": "a594cbe6-9d92-4736-8d97-cd4a67508dca"
      },
      "execution_count": 119,
      "outputs": [
        {
          "output_type": "execute_result",
          "data": {
            "text/plain": [
              "\"You know you should just sleep and go to bed. Don't worry about not feeling good, it will go away.  Just go to bed and do your work and it will all work out. I would do the same thing.  Be happy that you got your exam.  It will mean a lot to you.      Have a good night.\\n\""
            ],
            "application/vnd.google.colaboratory.intrinsic+json": {
              "type": "string"
            }
          },
          "metadata": {},
          "execution_count": 119
        }
      ]
    },
    {
      "cell_type": "code",
      "source": [],
      "metadata": {
        "id": "p0Qv90UZdsN_"
      },
      "execution_count": null,
      "outputs": []
    }
  ]
}